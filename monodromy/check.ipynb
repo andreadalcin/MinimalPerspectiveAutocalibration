{
 "cells": [
  {
   "cell_type": "code",
   "execution_count": 64,
   "metadata": {
    "collapsed": true,
    "ExecuteTime": {
     "end_time": "2023-05-27T09:22:51.228005Z",
     "start_time": "2023-05-27T09:22:51.227051Z"
    }
   },
   "outputs": [],
   "source": [
    "import numpy as np"
   ]
  },
  {
   "cell_type": "code",
   "execution_count": 65,
   "outputs": [],
   "source": [
    "n = 5\n",
    "eps = 1e-6\n",
    "\n",
    "A = np.random.rand(n)\n",
    "# B = np.random.rand(n)\n",
    "# C = np.random.rand(n)\n",
    "xPoints = np.vstack((np.random.rand(2, n), np.ones((1, n))))\n",
    "# yPoints = np.vstack((np.random.rand(2, n), np.ones((1, n))))\n",
    "# zPoints = np.vstack((np.random.rand(2, n), np.ones((1, n))))\n",
    "\n",
    "K_p = np.random.rand(5)\n",
    "K = np.array([[K_p[0], 0, K_p[2]], [0, K_p[1], K_p[3]], [0, 0, 1]])\n",
    "O = np.linalg.inv(K).T @ np.linalg.inv(K)\n",
    "assert O[0,0] - 1 / K[0,0]**2 < eps\n",
    "\n",
    "xPointsWorld = np.linalg.inv(K) @ xPoints @ np.diag(A)"
   ],
   "metadata": {
    "collapsed": false,
    "ExecuteTime": {
     "end_time": "2023-05-27T09:22:51.232692Z",
     "start_time": "2023-05-27T09:22:51.229694Z"
    }
   }
  },
  {
   "cell_type": "code",
   "execution_count": 66,
   "outputs": [
    {
     "data": {
      "text/plain": "array([[0.54885632, 0.        , 0.82506483],\n       [0.        , 0.35308434, 0.12959042],\n       [0.        , 0.        , 1.        ]])"
     },
     "execution_count": 66,
     "metadata": {},
     "output_type": "execute_result"
    }
   ],
   "source": [
    "K"
   ],
   "metadata": {
    "collapsed": false,
    "ExecuteTime": {
     "end_time": "2023-05-27T09:22:51.235941Z",
     "start_time": "2023-05-27T09:22:51.234248Z"
    }
   }
  },
  {
   "cell_type": "code",
   "execution_count": 168,
   "outputs": [],
   "source": [
    "nsq = lambda x: x.T @ x\n",
    "normalize = lambda v : v / np.sqrt(np.sum(v**2))\n",
    "\n",
    "a1 = A[0]\n",
    "a2 = A[1]\n",
    "P = xPointsWorld[:,0]\n",
    "Q = xPointsWorld[:,1]\n",
    "p = xPoints[:,0]\n",
    "q = xPoints[:,1]\n",
    "Pp = a1 * np.linalg.inv(K) @ p\n",
    "Qq = a2 * np.linalg.inv(K) @ q\n",
    "\n",
    "d1 = nsq(Pp - Qq)\n",
    "d2 = (a1 * p - a2 * q).T @ O @ (a1 * p - a2 * q)"
   ],
   "metadata": {
    "collapsed": false,
    "ExecuteTime": {
     "end_time": "2023-05-27T09:57:23.243622Z",
     "start_time": "2023-05-27T09:57:23.240712Z"
    }
   }
  },
  {
   "cell_type": "code",
   "execution_count": 169,
   "outputs": [
    {
     "data": {
      "text/plain": "0.8062490811529776"
     },
     "execution_count": 169,
     "metadata": {},
     "output_type": "execute_result"
    }
   ],
   "source": [
    "d1"
   ],
   "metadata": {
    "collapsed": false,
    "ExecuteTime": {
     "end_time": "2023-05-27T09:57:23.624473Z",
     "start_time": "2023-05-27T09:57:23.620748Z"
    }
   }
  },
  {
   "cell_type": "code",
   "execution_count": 170,
   "outputs": [
    {
     "data": {
      "text/plain": "0.8062490811529773"
     },
     "execution_count": 170,
     "metadata": {},
     "output_type": "execute_result"
    }
   ],
   "source": [
    "d2"
   ],
   "metadata": {
    "collapsed": false,
    "ExecuteTime": {
     "end_time": "2023-05-27T09:57:23.949574Z",
     "start_time": "2023-05-27T09:57:23.945884Z"
    }
   }
  },
  {
   "cell_type": "code",
   "execution_count": 158,
   "outputs": [
    {
     "ename": "AssertionError",
     "evalue": "",
     "output_type": "error",
     "traceback": [
      "\u001B[0;31m---------------------------------------------------------------------------\u001B[0m",
      "\u001B[0;31mAssertionError\u001B[0m                            Traceback (most recent call last)",
      "Cell \u001B[0;32mIn[158], line 1\u001B[0m\n\u001B[0;32m----> 1\u001B[0m \u001B[38;5;28;01massert\u001B[39;00m d1 \u001B[38;5;241m-\u001B[39m d2 \u001B[38;5;241m<\u001B[39m eps\n",
      "\u001B[0;31mAssertionError\u001B[0m: "
     ]
    }
   ],
   "source": [
    "assert d1 - d2 < eps"
   ],
   "metadata": {
    "collapsed": false,
    "ExecuteTime": {
     "end_time": "2023-05-27T09:49:15.292255Z",
     "start_time": "2023-05-27T09:49:15.285097Z"
    }
   }
  },
  {
   "cell_type": "code",
   "execution_count": 146,
   "outputs": [
    {
     "data": {
      "text/plain": "array([-0.43045775, -0.30398984,  0.83294094])"
     },
     "execution_count": 146,
     "metadata": {},
     "output_type": "execute_result"
    }
   ],
   "source": [
    "Pp"
   ],
   "metadata": {
    "collapsed": false,
    "ExecuteTime": {
     "end_time": "2023-05-27T09:40:04.612461Z",
     "start_time": "2023-05-27T09:40:04.610583Z"
    }
   }
  }
 ],
 "metadata": {
  "kernelspec": {
   "display_name": "Python 3",
   "language": "python",
   "name": "python3"
  },
  "language_info": {
   "codemirror_mode": {
    "name": "ipython",
    "version": 2
   },
   "file_extension": ".py",
   "mimetype": "text/x-python",
   "name": "python",
   "nbconvert_exporter": "python",
   "pygments_lexer": "ipython2",
   "version": "2.7.6"
  }
 },
 "nbformat": 4,
 "nbformat_minor": 0
}
